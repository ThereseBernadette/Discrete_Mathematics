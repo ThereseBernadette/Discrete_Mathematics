{
  "nbformat": 4,
  "nbformat_minor": 0,
  "metadata": {
    "colab": {
      "provenance": [],
      "authorship_tag": "ABX9TyOrEfKJTFA8wwWMEAAYdjXM"
    },
    "kernelspec": {
      "name": "python3",
      "display_name": "Python 3"
    },
    "language_info": {
      "name": "python"
    }
  },
  "cells": [
    {
      "cell_type": "code",
      "execution_count": null,
      "metadata": {
        "id": "c567qQ1Iyrzr"
      },
      "outputs": [],
      "source": [
        "from matplotlib_venn import venn2, venn2_circles, venn2_unweighted\n",
        "from matplotlib_venn import venn3, venn3_circles\n",
        "from matplotlib import pyplot as plt\n",
        "import pandas as pd\n",
        "%matplotlib inline"
      ]
    },
    {
      "cell_type": "code",
      "source": [
        "def drawVenn2(A,B,labels = ('A', 'B')):\n",
        "    v2=venn2([A,B],set_labels = labels);\n",
        "    v2.get_label_by_id('01').set_text(', '.join(map(str,B-A)))\n",
        "    v2.get_label_by_id('10').set_text(', '.join(map(str,A-B)))\n",
        "    if A&B:\n",
        "        v2.get_label_by_id('11').set_text(', '.join(map(str,A&B)))"
      ],
      "metadata": {
        "id": "fy31iGc9XD__"
      },
      "execution_count": null,
      "outputs": []
    },
    {
      "cell_type": "markdown",
      "source": [
        "# 1. Proving Identities\n",
        "\n",
        "Given: A and B are sets, ∃ x such that (x ∈ A Λ x ∈ B)\n",
        "\n",
        "Show that:\n",
        "\n",
        "$\\textbf{1. $A ∖ B = A ∩ B^C$}$\n",
        "\n",
        "$\\textit{Proof:}$\n",
        "\n",
        "-   Given $A, B ∈ \\mathcal{U}$:\n",
        "\n",
        "  By definition, the complement of B represents all elements that are not in B which is given by the equation $B^C = \\mathcal{U} - B$. Since the right-hand side of the equation is equal to the intersection of A and the complement of B ($A ∩ B^C$), so it means that it includes all the elements of A but not in B. This satisfies the left-hand side of the equation equal to the set difference between two sets, A and B ($\\text{A∖B}$) which represents all the elements of A but not in B. Therefore, $A ∖ B = A ∩ B^C$\n",
        "\n",
        "$\\textbf{2. $B = (B ∩ A) ∪ (B ∩ A^C)$}$\n",
        "\n",
        "$\\textit{Proof:}$\n",
        "\n",
        "-   Given $A, B ∈ \\mathcal{U}$:\n",
        "\n",
        "  By the distributive law, $(B ∩ A) ∪ (B ∩ A^C)$ = $B ∪ (A ∩ A^C)$. By evaluation, $A ∩ A^C = ∅$ then $B ∪ ∅ = B$. Therefore, $B = (B ∩ A) ∪ (B ∩ A^C)$\n",
        "\n",
        "$\\textbf{3. $B ∖ A = B ∩ A^C$}$\n",
        "\n",
        "$\\textit{Proof:}$\n",
        "\n",
        "-   Given $A, B ∈ \\mathcal{U}$:\n",
        "\n",
        "  By definition, the complement of A represents all elements that are not in A which is given by the equation $A^C = \\mathcal{U} - A$. Since the right-hand side of the equation is equal to the intersection of B and the complement of A ($B ∩ A^C$), so it means that it includes all the elements of B but not in A. This satisfies the left-hand side of the equation equal to the set difference between two sets, B and A ($\\text{B∖A}$) which represents all the elements of B but not in A. Therefore, $B ∖ A = B ∩ A^C$\n",
        "\n",
        "$\\textbf{4. $A ∪ B = A ∪ (B ∩ A^C)$}$\n",
        "\n",
        "$\\textit{Proof:}$\n",
        "\n",
        "-   Given $A, B ∈ \\mathcal{U}$:\n",
        "\n",
        "  Evaluating the right-hand side of the equation, $A ∪ (B ∩ A^C)$ then $(B ∩ A^C) = B $ so, $A ∪ B = A ∪ B$.\n",
        "\n",
        "$\\textbf{5. $(\\textbf{U}_{i = 1}^{\\infty} A^C_i)^C = \\cap_{i = 1}^{\\infty}A_i$}$\n",
        "\n",
        "$\\textit{Proof:}$\n",
        "\n",
        "-   Given $A ∈ \\mathcal{U}$:\n",
        "\n",
        "  By De Morgan's Law, we can distribute the complement inside the parenthesis, and we have $\\bigcap_{i = 1}^{\\infty}(A_i^C)^C$. Then it follows by the Double Negation Law that, $\\bigcap_{i = 1}^{\\infty}(A_i^C)^C = \\bigcap_{i = 1}^{\\infty}A_i$\n",
        "\n",
        "$\\textbf{6. $|A ∪ B| = |A| + |B| - |A ∩ B|$}$\n",
        "\n",
        "$\\textit{Proof:}$\n",
        "\n",
        "-   Given $A, B ∈ \\mathcal{U}$:\n",
        "\n",
        "**Case 1**: If  A  and  B  are disjoint\n",
        "\n",
        "  By definition of disjoint sets, their intersection is the empty set, thus  $|A∩B|=∅$. It follows that the cardinality of the two union of two sets is given by $|A∪B|=|A|+|B|$.\n",
        "\n",
        "**Case 2**: If  A  and  B  are not disjoint\n",
        "\n",
        "  First is that we will count the size of both sets  A  and  B . Since we will be double counting the common elements of both sets, we will substract these common elements, thus their intersection  $|A∩B|$ . It follows that $|A∪B|=|A|+|B|−|A∩B|$"
      ],
      "metadata": {
        "id": "vKZ_xZXUz4RJ"
      }
    },
    {
      "cell_type": "markdown",
      "source": [
        "# 2. Sets and Subsets\n",
        "\n",
        "1. If A = \\{2, 3, 4, 5\\}, and $B = \\{x \\in \\mathbb{N} |  x \\text{ is even}\\}$. Is $A \\subset B$? Show a proof.\n",
        "\n"
      ],
      "metadata": {
        "id": "2TpkEpfjxjQB"
      }
    },
    {
      "cell_type": "markdown",
      "source": [
        "By definition, A is a proper subset of B,\n",
        "\n",
        "1. If A is a subset of B; <font color=#FF0000>**AND**</font>\n",
        "\n",
        "2. If there exist **at least one element of B that is not in A**.\n",
        "\n",
        "Evaluating the conditions:\n",
        "\n",
        "1. Is A a subset of B?\n",
        "\n",
        "*   By definition, if A and B are sets from $\\mathcal{U}$, then A is a subset of B, denoted as A ⊆ B iff ∀ elements of A is also an element of B.\n",
        "\n",
        "  From the given sets:\n",
        "\n",
        "  $A$ = {2, 3, 4, 5}, and $B = \\{x \\in \\mathbb{N} |  x \\text{ is even}\\}$\n",
        "\n",
        "  Since set A contains an element = {5} which is an odd number, then A ⊈ B because not all elements of A are in B.\n",
        "  \n",
        "  Thus, we can say A ⊄ B."
      ],
      "metadata": {
        "id": "4m3p1q-mAR6x"
      }
    },
    {
      "cell_type": "code",
      "source": [
        "#Pythonic Solution\n",
        "A = {2, 3, 4, 5}\n",
        "B = {2, 4, 6, 8, 10}\n",
        "print('Is B a proper subset of A?', B<A)"
      ],
      "metadata": {
        "colab": {
          "base_uri": "https://localhost:8080/"
        },
        "id": "YuogXE5H6yCh",
        "outputId": "f9728ad9-9e9d-4f2c-c50f-e8fe7ea2eeef"
      },
      "execution_count": null,
      "outputs": [
        {
          "output_type": "stream",
          "name": "stdout",
          "text": [
            "Is B a proper subset of A? False\n"
          ]
        }
      ]
    },
    {
      "cell_type": "markdown",
      "source": [
        "2. Let sets,\n",
        "\n",
        "  $\\textbf{A} = \\{x|x \\in \\mathbb{Z}, 0 \\leq x \\leq 9\\}$,\n",
        "\n",
        "  $\\textbf{B} = { 2,4,6,8}$,\n",
        "\n",
        "  $\\textbf{C} = { 1,3,5,7,9}$\n",
        "\n",
        "  $\\textbf{D} = { 3,4,5}$\n",
        "\n",
        "  Find a set $\\textbf{X}$ that will satisfy the following conditions:\n",
        "\n",
        "  1. $\\textbf{X} \\ and \\ \\textbf{B}$ are disjoint.\n",
        "\n",
        "  2. $\\textbf{X} \\subseteq \\textbf{D}$ but $\\textbf{X} \\nsubseteq \\textbf{B}$.\n",
        "\n",
        "  3. $\\textbf{X} \\subseteq \\textbf{A}$ but $\\textbf{X} \\not\\subset \\textbf{C}$."
      ],
      "metadata": {
        "id": "ZryOCiw36NEy"
      }
    },
    {
      "cell_type": "markdown",
      "source": [
        "1. $\\textbf{X} \\ and \\ \\textbf{B}$ are disjoint.\n",
        "\n",
        "Since $A$ = {$x|x\\textbf{∈ ℤ}, 0 ≤ x ≤ 9$},\n",
        "\n",
        "Then,\n",
        "\n",
        "$X = A - B$\n",
        "\n",
        "$X$ = {$0, 1, 2, 3, 4, 5, 6, 7, 8, 9$} - {$2, 4, 6, 8$}\n",
        "\n",
        "$X$ = {$0, 1, 3, 5, 7, 9$}"
      ],
      "metadata": {
        "id": "bLr9XXLwJ-j2"
      }
    },
    {
      "cell_type": "code",
      "source": [
        "#Pythonic Solution\n",
        "A = {0,1,2,3,4,5,6,7,8,9}\n",
        "B = {2,4,6,8}\n",
        "X = A-B\n",
        "print('X =', X)\n",
        "print('Are X and B disjoint?', X.isdisjoint(B))\n",
        "drawVenn2(X,B, labels=('X','B'))"
      ],
      "metadata": {
        "colab": {
          "base_uri": "https://localhost:8080/",
          "height": 316
        },
        "id": "uQvBwcTb02uQ",
        "outputId": "ab0a4235-84a6-4e98-f5e2-7061a39c8616"
      },
      "execution_count": null,
      "outputs": [
        {
          "output_type": "stream",
          "name": "stdout",
          "text": [
            "X = {0, 1, 3, 5, 7, 9}\n",
            "Are X and B disjoint? True\n"
          ]
        },
        {
          "output_type": "display_data",
          "data": {
            "text/plain": [
              "<Figure size 640x480 with 1 Axes>"
            ],
            "image/png": "[encoded data removed]"
          },
          "metadata": {}
        }
      ]
    },
    {
      "cell_type": "markdown",
      "source": [
        "2. $\\textbf{X} \\subseteq \\textbf{D}$ but $\\textbf{X} \\nsubseteq \\textbf{B}$.\n",
        "\n",
        "By definition, If X and D are sets from $\\mathcal{U}$, then X is a subset of D, denoted as X ⊆ D iff ∀ elements of X is also an element of D. Evaluating the given sets:\n",
        "\n",
        "Since $\\textbf{X} \\subseteq \\textbf{D}$, where:\n",
        "\n",
        "$\\textbf{D}$ = {$3, 4, 5$}\n",
        "\n",
        "But $\\textbf{X} \\nsubseteq \\textbf{B}$, where:\n",
        "\n",
        "$\\textbf{B}$ = {$2, 4, 6, 8$}\n",
        "\n",
        "Then:\n",
        "\n",
        "$X = D - B$\n",
        "\n",
        "$X$ = {$3, 4, 5$} - {$2, 4, 6, 8$}\n",
        "\n",
        "$X$ = {$3, 5$}"
      ],
      "metadata": {
        "id": "E8UwyBgDYOg-"
      }
    },
    {
      "cell_type": "code",
      "source": [
        "#Pythonic Solution\n",
        "B = {2,4,6,8}\n",
        "D = {3,4,5}\n",
        "X = D - B\n",
        "print('X =', X)\n",
        "print('Is X a subset of D?', X.issubset(D))\n",
        "print('Is X a subset of B?', X.issubset(B))\n",
        "drawVenn2(D,X, labels = ('D', 'X'))"
      ],
      "metadata": {
        "colab": {
          "base_uri": "https://localhost:8080/",
          "height": 463
        },
        "id": "xOFOsgfU2eBk",
        "outputId": "294c21b2-f4be-4190-90b1-a1788f940294"
      },
      "execution_count": null,
      "outputs": [
        {
          "output_type": "stream",
          "name": "stdout",
          "text": [
            "X = {3, 5}\n",
            "Is X a subset of D? True\n",
            "Is X a subset of B? False\n"
          ]
        },
        {
          "output_type": "display_data",
          "data": {
            "text/plain": [
              "<Figure size 640x480 with 1 Axes>"
            ],
            "image/png": "[encoded data removed]"
          },
          "metadata": {}
        }
      ]
    },
    {
      "cell_type": "markdown",
      "source": [
        "3. $\\textbf{X} \\subseteq \\textbf{A}$ but $\\textbf{X} \\not\\subset \\textbf{C}$.\n",
        "\n",
        "By definition, If X and A are sets from $\\mathcal{U}$, then X is a subset of A, denoted as X ⊆ A iff ∀ elements of X is also an element of A. Evaluating the given sets:\n",
        "\n",
        "Since $\\textbf{X} \\subseteq \\textbf{A}$, where:\n",
        "\n",
        "$\\textbf{A}$ = {$0, 1, 2, 3, 4, 5, 6, 7, 8, 9$}\n",
        "\n",
        "But $\\textbf{X} \\not\\subset \\textbf{C}$, where:\n",
        "\n",
        "$\\textbf{C}$ = {$1, 3, 5, 7, 9$}\n",
        "\n",
        "Then:\n",
        "\n",
        "$X = A - C$\n",
        "\n",
        "$X$ = {$0, 1, 2, 3, 4, 5, 6, 7, 8, 9$} - {$1, 3, 5, 7, 9$}\n",
        "\n",
        "$X$ = {$0, 2, 4, 6, 8$}"
      ],
      "metadata": {
        "id": "JHI7PNhPaTQ1"
      }
    },
    {
      "cell_type": "code",
      "source": [
        "#Pythonic Solution\n",
        "A = {0,1,2,3,4,5,6,7,8,9}\n",
        "C = {1,3,5,7,9}\n",
        "X = A - C\n",
        "print('X =', X)\n",
        "print('Is X a subset of A?', X.issubset(A))\n",
        "print('Is X a proper subset of C?', X<C)\n",
        "drawVenn2(A,X, labels = ('A', 'X'))"
      ],
      "metadata": {
        "colab": {
          "base_uri": "https://localhost:8080/",
          "height": 462
        },
        "id": "9Wfu_osrH84f",
        "outputId": "4cc6ebbb-1af5-4f56-90a4-7f7111c74bfa"
      },
      "execution_count": null,
      "outputs": [
        {
          "output_type": "stream",
          "name": "stdout",
          "text": [
            "X = {0, 2, 4, 6, 8}\n",
            "Is X a subset of A? True\n",
            "Is X a proper subset of C? False\n"
          ]
        },
        {
          "output_type": "display_data",
          "data": {
            "text/plain": [
              "<Figure size 640x480 with 1 Axes>"
            ],
            "image/png": "[encoded data removed]"
          },
          "metadata": {}
        }
      ]
    },
    {
      "cell_type": "markdown",
      "source": [
        "# 3. Set Operations\n",
        "\n",
        "Given:\n",
        "\n",
        "$\\textbf{U} = \\{1, 2, 3, 4, 5\\}$\n",
        "\n",
        "$\\textbf{A} = \\{1, 2, 3, 4, 5\\}$\n",
        "\n",
        "$\\textbf{B} = \\{4, 5, 6, 7\\}$\n",
        "\n",
        "$\\textbf{C} = \\{5, 6, 7, 8, 9\\}$\n",
        "\n",
        "$\\textbf{D} = \\{1, 3, 5, 7, 9\\}$\n",
        "\n",
        "$\\textbf{E} = \\{2, 4, 6, 8\\}$\n",
        "\n",
        "$\\textbf{F} = \\{1, 5, 9\\}$\n",
        "\n",
        "Find:\n",
        "\n",
        "1. $\\textbf{C} ⊕ \\textbf{D}$\n",
        "\n",
        "2. $\\textbf{A}∖\\textbf{B}$\n",
        "\n",
        "3. $\\textbf{B}∖\\textbf{A}$\n",
        "\n",
        "4. $\\textbf{E} ⊕ \\textbf{F}$"
      ],
      "metadata": {
        "id": "_jKUfEjM5rda"
      }
    },
    {
      "cell_type": "markdown",
      "source": [
        "1. $\\textbf{C} ⊕ \\textbf{D}$ = $(\\textbf{C} ∪ \\textbf{D})$ - $(\\textbf{C} ∩ \\textbf{D})$ = {1, 3, 5, 6, 7, 8, 9} - {5, 7, 9} = $\\textbf{{1, 3, 6, 8}}$\n",
        "\n",
        "2. $\\textbf{A} ∖ \\textbf{B}$ = $|\\textbf{A}| - |\\textbf{B}|$ = {1, 2, 3, 4, 5} - {4, 5, 6, 7} = $\\textbf{{1, 2, 3}}$\n",
        "\n",
        "3. $\\textbf{B} ∖ \\textbf{A}$ = $|\\textbf{B}| - |\\textbf{A}|$ = {4, 5, 6, 7} - {1, 2, 3, 4, 5} = $\\textbf{{6, 7}}$\n",
        "\n",
        "4. $\\textbf{E} ⊕ \\textbf{F}$ = $(\\textbf{E} ∪ \\textbf{F})$ - $(\\textbf{E} ∩ \\textbf{F})$ = {1, 2, 4, 5, 6, 8, 9} - {∅} = $\\textbf{{1, 2, 4, 5, 6, 8, 9}}$"
      ],
      "metadata": {
        "id": "Vixf1Hmm0CVf"
      }
    },
    {
      "cell_type": "code",
      "source": [
        "#Pythonic Solutions\n",
        "U = {1, 2, 3, 4, 5}\n",
        "A = {1, 2, 3, 4, 5}\n",
        "B = {4, 5, 6, 7}\n",
        "C = {5, 6, 7, 8, 9}\n",
        "D = {1, 3, 5, 7, 9}\n",
        "E = {2, 4, 6, 8}\n",
        "F = {1, 5, 9}\n",
        "\n",
        "print('1. C⊕D =', C^D)\n",
        "print('2. A\\B =', A-B)\n",
        "print('3. B\\A =', B-A)\n",
        "print('4. E⊕F =', E^F)"
      ],
      "metadata": {
        "colab": {
          "base_uri": "https://localhost:8080/"
        },
        "id": "Paw99wWPAdDR",
        "outputId": "3bfdd129-e9b7-4d30-b90d-b95b66db2334"
      },
      "execution_count": null,
      "outputs": [
        {
          "output_type": "stream",
          "name": "stdout",
          "text": [
            "1. C⊕D = {1, 3, 6, 8}\n",
            "2. A\\B = {1, 2, 3}\n",
            "3. B\\A = {6, 7}\n",
            "4. E⊕F = {1, 2, 4, 5, 6, 8, 9}\n"
          ]
        }
      ]
    },
    {
      "cell_type": "markdown",
      "source": [
        "# 4. Finite Sets and The Counting Principles\n",
        "\n",
        "## 4A. In a survey of 120 people, it was found that:\n",
        "\n",
        "*   65 read Newsweek Magazine\n",
        "*   45 read Times Magazine\n",
        "*   42 read Fortune Magazine\n",
        "*   20 read Both Newsweek and Time\n",
        "*   25 read both Newsweek and Fortune\n",
        "*   15 read both Time and Fortune\n",
        "*   8 read all three magazines\n",
        "\n",
        "With these information, do the following:\n",
        "\n",
        "1. Draw the venn diagram using python.\n",
        "\n",
        "2. Find the number of people who read at **\"least one\"** of the three magazines.\n",
        "\n",
        "3. Find the number of people who read exactly one magazine."
      ],
      "metadata": {
        "id": "WE9FBg-48FWH"
      }
    },
    {
      "cell_type": "code",
      "source": [
        "venn3(subsets = (65, 45, 20, 42, 25, 15, 8), set_labels = ('Newsweek', 'Times', 'Fortune'))"
      ],
      "metadata": {
        "colab": {
          "base_uri": "https://localhost:8080/",
          "height": 424
        },
        "id": "tCe5VoLcEpb_",
        "outputId": "7e0a8edb-d507-4fe8-da1a-41770ab78c53"
      },
      "execution_count": null,
      "outputs": [
        {
          "output_type": "execute_result",
          "data": {
            "text/plain": [
              "<matplotlib_venn._common.VennDiagram at 0x7b42d08dd900>"
            ]
          },
          "metadata": {},
          "execution_count": 5
        },
        {
          "output_type": "display_data",
          "data": {
            "text/plain": [
              "<Figure size 640x480 with 1 Axes>"
            ],
            "image/png": "[encoded data removed]"
          },
          "metadata": {}
        }
      ]
    },
    {
      "cell_type": "markdown",
      "source": [
        "**4A-2. Find the number of people who read at $\\textbf{\"least one\"}$ of the three magazines.**\n",
        "\n",
        "$|{Newsweek ∪ Times ∪ Fortune}| =|{Newsweek}| + |{Times}| + |{Fortune}| - |{Newsweek ∩ Times}| - |{Newsweek ∩ Fortune}| - |{Times ∩ Fortune}| + |{Newsweek ∩ Times ∩ Fortune}| =  65 + 45 + 42 - 25 - 20 - 15 + 8 = \\textbf{100}$\n",
        "\n",
        "**4A-3. Find the number of people who read exactly one magazine.**\n",
        "\n",
        "$\\textbf{Newsweek Readers only:}$\n",
        "\n",
        "$|{Newsweek \\text{ only}}| = |{Newsweek}| - |{Newsweek ∩ Times}| - |{Newsweek ∩ Fortune}| + |{Newsweek ∩ Times ∩ Fortune}| = 65 - 25 -20 + 8 = \\textbf{28}$\n",
        "\n",
        "$\\textbf{Times Readers only:}$\n",
        "\n",
        "$|{Times \\text{ only}}| = |{Times}| - |{Times ∩ Newsweek}| - |{Times ∩ Fortune}| + |{Newsweek ∩ Times ∩ Fortune}| = 45 - 20 - 15 + 8 = \\textbf{18}$\n",
        "\n",
        "$\\textbf{Fortune Readers only:}$\n",
        "\n",
        "$|{Fortune \\text{ only}}| = |{Fortune}| - |{Fortune ∩ Newsweek}| - |{Fortune ∩ Times}| + |{Newsweek ∩ Times ∩ Fortune}| = 42 - 25 - 15 + 8 = \\textbf{10}$"
      ],
      "metadata": {
        "id": "vI64YlmWyvkZ"
      }
    },
    {
      "cell_type": "markdown",
      "source": [
        "## 4B.\n",
        "In a survey of 25 new cars being sold at a local auto dealer was conducted to see which of the three popular options: air conditioning, denoted as A; radio, denoted as R; and power windows, denoted as W were installed. The survey found that:\n",
        "\n",
        "*   15 had A.\n",
        "\n",
        "> HINT: The condition said $\\textbf{\"had an A\"}$ <font color=#FF0000>**AND NOT**</font> $\\textbf{\"had an A only\"}$.\n",
        "\n",
        "*   12 had R.\n",
        "\n",
        "> HINT: The condition said $\\textbf{\"had a R\"}$ <font color=#FF0000>**AND NOT**</font> $\\textbf{\"had a R only\"}$.\n",
        "\n",
        "*   11 had W.\n",
        "\n",
        "> HINT: The condition said $\\textbf{\"had a W\"}$ <font color=#FF0000>**AND NOT**</font> $\\textbf{\"had a W only\"}$.\n",
        "\n",
        "*   5 had A and W.\n",
        "*   9 had A and R.\n",
        "*   4 had R and W.\n",
        "*   Only 3 had the three options.\n",
        "\n",
        "With these information, do the following:\n",
        "\n",
        "1. Draw the venn diagram using python.\n",
        "\n",
        "2. Find the number of cars with W only.\n",
        "\n",
        "3. Find the number of cars with A only.\n",
        "\n",
        "4. Find the number of cars with R only.\n",
        "\n",
        "5. Find the number of cars with both R and W but not A.\n",
        "\n",
        "6. Find the number of cars with both A and R but not W.\n",
        "\n",
        "7. Find the number of cars with only one of the options.\n",
        "\n",
        "8. Find the number of cars with at least one option.\n",
        "\n",
        "9. Find the number of cars with none of the Options."
      ],
      "metadata": {
        "id": "CZVTEBTuOqne"
      }
    },
    {
      "cell_type": "code",
      "source": [
        "venn3(subsets = (15, 12, 9, 11, 5, 4, 3), set_labels = ('A', 'R', 'W'))"
      ],
      "metadata": {
        "colab": {
          "base_uri": "https://localhost:8080/",
          "height": 424
        },
        "id": "QzfBEmhsTx6s",
        "outputId": "ce317f72-a515-43c7-cea8-7ce047f45996"
      },
      "execution_count": null,
      "outputs": [
        {
          "output_type": "execute_result",
          "data": {
            "text/plain": [
              "<matplotlib_venn._common.VennDiagram at 0x799b3611ffd0>"
            ]
          },
          "metadata": {},
          "execution_count": 8
        },
        {
          "output_type": "display_data",
          "data": {
            "text/plain": [
              "<Figure size 640x480 with 1 Axes>"
            ],
            "image/png": "[encoded data removed]"
          },
          "metadata": {}
        }
      ]
    },
    {
      "cell_type": "markdown",
      "source": [
        "4B-2. Find the number of cars with W only: $|W| - |W ∩ A| - |W ∩ R| + |W ∩ A ∩ R|$ = 11 - 5 - 4 + 3 = $\\textbf{5}$\n",
        "\n",
        "4B-3. Find the number of cars with A only: $|A| - |A ∩ R| - |A ∩ W| + |A ∩ R ∩ W|$ = 15 - 9 - 5 + 3 = $\\textbf{4}$\n",
        "\n",
        "4B-4. Find the number of cars with R only: $|R| - |R ∩ A| - |R ∩ W| + |R ∩ A ∩ W|$ = 12 - 9 - 4 + 3 = $\\textbf{2}$\n",
        "\n",
        "4B-5. Find the number of cars with both R and W but not A: $|R ∩ W| - |A ∩ R ∩ W|$ = 4 - 3 = $\\textbf{1}$\n",
        "\n",
        "4B-6. Find the number of cars with both A and R but not W: $|A ∩ R| - |A ∩ R ∩ W|$ = 9 - 3 = $\\textbf{6}$\n",
        "\n",
        "4B-7. Find the number of cars with only one of the options: $|A \\text{ only}| + |B \\text{ only}| + |C \\text{ only}|$ = 5 + 4 + 2 = $\\textbf{11}$\n",
        "\n",
        "4B-8. Find the number of cars with at least one option: $|A ∪ R ∪ W| = |A| + |R| + |W| - |A ∩ R| - |A ∩ W| - |R ∩ W| + |A ∩ R ∩ W|$ = 15 + 11 + 12 - 5 - 9 - 4 + 3 = $\\textbf{23}$\n",
        "\n",
        "4B-9. Find the number of cars with none of the Options: $|\\mathcal{U}| - |A ∪ R ∪ W|$ = 25 - 23 = $\\textbf{2}$"
      ],
      "metadata": {
        "id": "owccBdcFWpRE"
      }
    }
  ]
}