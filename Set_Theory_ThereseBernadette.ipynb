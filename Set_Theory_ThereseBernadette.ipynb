{
  "nbformat": 4,
  "nbformat_minor": 0,
  "metadata": {
    "colab": {
      "provenance": [],
      "authorship_tag": "ABX9TyNOyfsiKDUYvF/+b2eYrMPV",
      "include_colab_link": true
    },
    "kernelspec": {
      "name": "python3",
      "display_name": "Python 3"
    },
    "language_info": {
      "name": "python"
    }
  },
  "cells": [
    {
      "cell_type": "markdown",
      "metadata": {
        "id": "view-in-github",
        "colab_type": "text"
      },
      "source": [
        "<a href=\"https://colab.research.google.com/github/ThereseBernadette/Discrete_Mathematics/blob/main/Set_Theory_ThereseBernadette.ipynb\" target=\"_parent\"><img src=\"https://colab.research.google.com/assets/colab-badge.svg\" alt=\"Open In Colab\"/></a>"
      ]
    },
    {
      "cell_type": "code",
      "execution_count": 2,
      "metadata": {
        "id": "c567qQ1Iyrzr"
      },
      "outputs": [],
      "source": [
        "from matplotlib_venn import venn2, venn2_circles, venn2_unweighted\n",
        "from matplotlib_venn import venn3, venn3_circles\n",
        "from matplotlib import pyplot as plt\n",
        "import pandas as pd\n",
        "%matplotlib inline"
      ]
    },
    {
      "cell_type": "markdown",
      "source": [
        "# 1. Proving Identities\n",
        "\n",
        "Given: A and B are sets, ∃ x such that (x ∈ A Λ x ∈ B)\n",
        "\n",
        "Show that:\n",
        "\n",
        "1. $A ∖ B = A ∩ B^C$\n",
        "\n",
        "2. $B = (B ∩ A) ∪ (B ∩ A^C)$\n",
        "\n",
        "3. $B ∖ A = B ∩ A^C$\n",
        "\n",
        "4. $A ∪ B = A ∪ (B ∩ A^C)$\n",
        "\n",
        "5. $(\\textbf{U}_{i = 1}^{\\infty} A^C_i)^C = \\cap_{i = 1}^{\\infty}A_i$\n",
        "\n",
        "6. $|A ∪ B| = |A| + |B| - |A ∩ B|$\n",
        "\n"
      ],
      "metadata": {
        "id": "vKZ_xZXUz4RJ"
      }
    },
    {
      "cell_type": "markdown",
      "source": [
        "# 2. Sets and Subsets\n",
        "\n",
        "1. If A = \\{2, 3, 4, 5\\}, and $B = \\{x \\in \\mathbb{N} |  x \\text{ is even}\\}$. Is $A \\subset B$? Show a proof.\n",
        "\n"
      ],
      "metadata": {
        "id": "2TpkEpfjxjQB"
      }
    },
    {
      "cell_type": "code",
      "source": [
        "#Pythonic Solution\n",
        "A = {2, 3, 4, 5}\n",
        "B = {2, 4, 6, 8, 10}\n",
        "print('Is B a proper subset of A?', B<A)"
      ],
      "metadata": {
        "colab": {
          "base_uri": "https://localhost:8080/"
        },
        "id": "YuogXE5H6yCh",
        "outputId": "d965fb34-fdf1-4b10-a46f-88c846952eb5"
      },
      "execution_count": 10,
      "outputs": [
        {
          "output_type": "stream",
          "name": "stdout",
          "text": [
            "Is B a proper subset of A? False\n"
          ]
        }
      ]
    },
    {
      "cell_type": "markdown",
      "source": [
        "2. Let sets,\n",
        "\n",
        "  $\\textbf{A} = \\{x|x \\in \\mathbb{Z}, 0 \\leq x \\leq 9\\}$,\n",
        "\n",
        "  $\\textbf{B} = { 2,4,6,8}$,\n",
        "\n",
        "  $\\textbf{C} = { 1,3,5,7,9}$\n",
        "\n",
        "  $\\textbf{D} = { 3,4,5}$\n",
        "\n",
        "  Find a set $\\textbf{X}$ that will satisfy the following conditions:\n",
        "\n",
        "  1. $\\textbf{X} \\ and \\ \\textbf{B}$ are disjoint.\n",
        "\n",
        "  2. $\\textbf{X} \\subseteq \\textbf{D}$ but $\\textbf{X} \\nsubseteq \\textbf{B}$.\n",
        "\n",
        "  3. $\\textbf{X} \\subseteq \\textbf{A}$ but $\\textbf{X} \\not\\subset \\textbf{C}$."
      ],
      "metadata": {
        "id": "ZryOCiw36NEy"
      }
    },
    {
      "cell_type": "markdown",
      "source": [
        "# 3. Set Operations\n",
        "\n",
        "Given:\n",
        "\n",
        "$\\textbf{U} = \\{1, 2, 3, 4, 5\\}$\n",
        "\n",
        "$\\textbf{A} = \\{1, 2, 3, 4, 5\\}$\n",
        "\n",
        "$\\textbf{B} = \\{4, 5, 6, 7\\}$\n",
        "\n",
        "$\\textbf{C} = \\{5, 6, 7, 8, 9\\}$\n",
        "\n",
        "$\\textbf{D} = \\{1, 3, 5, 7, 9\\}$\n",
        "\n",
        "$\\textbf{E} = \\{2, 4, 6, 8\\}$\n",
        "\n",
        "$\\textbf{F} = \\{1, 5, 9\\}$\n",
        "\n",
        "Find:\n",
        "\n",
        "1. $\\textbf{C} ⊕ \\textbf{D}$\n",
        "\n",
        "2. $\\textbf{A}∖\\textbf{B}$\n",
        "\n",
        "3. $\\textbf{B}∖\\textbf{A}$\n",
        "\n",
        "4. $\\textbf{E} ⊕ \\textbf{F}$"
      ],
      "metadata": {
        "id": "_jKUfEjM5rda"
      }
    },
    {
      "cell_type": "markdown",
      "source": [
        "1. $\\textbf{C} ⊕ \\textbf{D}$ = $(\\textbf{C} ∪ \\textbf{D})$ - $(\\textbf{C} ∩ \\textbf{D})$ = {1, 3, 5, 6, 7, 8, 9} - {5, 7, 9} = $\\textbf{{1, 3, 6, 8}}$\n",
        "\n",
        "2. $\\textbf{A} ∖ \\textbf{B}$ = $|\\textbf{A}| - |\\textbf{B}|$ = {1, 2, 3, 4, 5} - {4, 5, 6, 7} = $\\textbf{{1, 2, 3}}$\n",
        "\n",
        "3. $\\textbf{B} ∖ \\textbf{A}$ = $|\\textbf{B}| - |\\textbf{A}|$ = {4, 5, 6, 7} - {1, 2, 3, 4, 5} = $\\textbf{{6, 7}}$\n",
        "\n",
        "4. $\\textbf{E} ⊕ \\textbf{F}$ = $(\\textbf{E} ∪ \\textbf{F})$ - $(\\textbf{E} ∩ \\textbf{F})$ = {1, 2, 4, 5, 6, 8, 9} - {∅} = $\\textbf{{1, 2, 4, 5, 6, 8, 9}}$"
      ],
      "metadata": {
        "id": "Vixf1Hmm0CVf"
      }
    },
    {
      "cell_type": "code",
      "source": [
        "#Pythonic Solutions\n",
        "U = {1, 2, 3, 4, 5}\n",
        "A = {1, 2, 3, 4, 5}\n",
        "B = {4, 5, 6, 7}\n",
        "C = {5, 6, 7, 8, 9}\n",
        "D = {1, 3, 5, 7, 9}\n",
        "E = {2, 4, 6, 8}\n",
        "F = {1, 5, 9}\n",
        "\n",
        "print('1. C⊕D =', C^D)\n",
        "print('2. A\\B =', A-B)\n",
        "print('3. B\\A =', B-A)\n",
        "print('4. E⊕F =', E^F)"
      ],
      "metadata": {
        "colab": {
          "base_uri": "https://localhost:8080/"
        },
        "id": "Paw99wWPAdDR",
        "outputId": "3bfdd129-e9b7-4d30-b90d-b95b66db2334"
      },
      "execution_count": 6,
      "outputs": [
        {
          "output_type": "stream",
          "name": "stdout",
          "text": [
            "1. C⊕D = {1, 3, 6, 8}\n",
            "2. A\\B = {1, 2, 3}\n",
            "3. B\\A = {6, 7}\n",
            "4. E⊕F = {1, 2, 4, 5, 6, 8, 9}\n"
          ]
        }
      ]
    },
    {
      "cell_type": "markdown",
      "source": [
        "# 4. Finite Sets and The Counting Principles\n",
        "\n",
        "## 4A.\n",
        "In a survey of 120 people, it was found that:\n",
        "\n",
        "*   65 read Newsweek Magazine\n",
        "*   45 read Times Magazine\n",
        "*   42 read Fortune Magazine\n",
        "*   20 read Both Newsweek and Time\n",
        "*   25 read both Newsweek and Fortune\n",
        "*   15 read both Time and Fortune\n",
        "*   8 read all three magazines\n",
        "\n",
        "With these information, do the following:\n",
        "\n",
        "1. Draw the venn diagram using python.\n",
        "\n",
        "2. Find the number of people who read at **\"least one\"** of the three magazines.\n",
        "\n",
        "3. Find the number of people who read exactly one magazine."
      ],
      "metadata": {
        "id": "WE9FBg-48FWH"
      }
    },
    {
      "cell_type": "code",
      "source": [
        "venn3(subsets = (65, 45, 20, 42, 25, 15, 8), set_labels = ('Newsweek', 'Times', 'Fortune'))"
      ],
      "metadata": {
        "colab": {
          "base_uri": "https://localhost:8080/",
          "height": 424
        },
        "id": "tCe5VoLcEpb_",
        "outputId": "7e0a8edb-d507-4fe8-da1a-41770ab78c53"
      },
      "execution_count": null,
      "outputs": [
        {
          "output_type": "execute_result",
          "data": {
            "text/plain": [
              "<matplotlib_venn._common.VennDiagram at 0x7b42d08dd900>"
            ]
          },
          "metadata": {},
          "execution_count": 5
        },
        {
          "output_type": "display_data",
          "data": {
            "text/plain": [
              "<Figure size 640x480 with 1 Axes>"
            ],
            "image/png": "[encoded data removed]"
          },
          "metadata": {}
        }
      ]
    },
    {
      "cell_type": "markdown",
      "source": [
        "4A-2. Find the number of people who read at \"least one\" of the three magazines.\n",
        "\n",
        "4A-3. Find the number of people who read exactly one magazine."
      ],
      "metadata": {
        "id": "vI64YlmWyvkZ"
      }
    },
    {
      "cell_type": "markdown",
      "source": [
        "## 4B.\n",
        "In a survey of 25 new cars being sold at a local auto dealer was conducted to see which of the three popular options: air conditioning, denoted as A; radio, denoted as R; and power windows, denoted as W were installed. The survey found that:\n",
        "\n",
        "*   15 had A.\n",
        "\n",
        "> HINT: The condition said $\\textbf{\"had an A\"}$ <font color=#FF0000>**AND NOT**</font> $\\textbf{\"had an A only\"}$.\n",
        "\n",
        "*   12 had R.\n",
        "\n",
        "> HINT: The condition said $\\textbf{\"had a R\"}$ <font color=#FF0000>**AND NOT**</font> $\\textbf{\"had a R only\"}$.\n",
        "\n",
        "*   11 had W.\n",
        "\n",
        "> HINT: The condition said $\\textbf{\"had a W\"}$ <font color=#FF0000>**AND NOT**</font> $\\textbf{\"had a W only\"}$.\n",
        "\n",
        "*   5 had A and W.\n",
        "*   9 had A and R.\n",
        "*   4 had R and W.\n",
        "*   Only 3 had the three options.\n",
        "\n",
        "With these information, do the following:\n",
        "\n",
        "1. Draw the venn diagram using python.\n",
        "\n",
        "2. Find the number of cars with W only.\n",
        "\n",
        "3. Find the number of cars with A only.\n",
        "\n",
        "4. Find the number of cars with R only.\n",
        "\n",
        "5. Find the number of cars with both R and W but not A.\n",
        "\n",
        "6. Find the number of cars with both A and R but not W.\n",
        "\n",
        "7. Find the number of cars with only one of the options.\n",
        "\n",
        "8. Find the number of cars with at least one option.\n",
        "\n",
        "9. Find the number of cars with none of the Options."
      ],
      "metadata": {
        "id": "CZVTEBTuOqne"
      }
    },
    {
      "cell_type": "code",
      "source": [
        "venn3(subsets = (15, 12, 9, 11, 5, 4, 3), set_labels = ('A', 'R', 'W'))"
      ],
      "metadata": {
        "colab": {
          "base_uri": "https://localhost:8080/",
          "height": 424
        },
        "id": "QzfBEmhsTx6s",
        "outputId": "ce317f72-a515-43c7-cea8-7ce047f45996"
      },
      "execution_count": null,
      "outputs": [
        {
          "output_type": "execute_result",
          "data": {
            "text/plain": [
              "<matplotlib_venn._common.VennDiagram at 0x799b3611ffd0>"
            ]
          },
          "metadata": {},
          "execution_count": 8
        },
        {
          "output_type": "display_data",
          "data": {
            "text/plain": [
              "<Figure size 640x480 with 1 Axes>"
            ],
            "image/png": "[encoded data removed]"
          },
          "metadata": {}
        }
      ]
    },
    {
      "cell_type": "markdown",
      "source": [
        "4B-2. Find the number of cars with W only: $|W| - |W ∩ A| - |W ∩ R| + |W ∩ A ∩ R|$ = 11 - 5 - 4 + 3 = $\\textbf{5}$\n",
        "\n",
        "4B-3. Find the number of cars with A only: $|A| - |A ∩ R| - |A ∩ W| + |A ∩ R ∩ W|$ = 15 - 9 - 5 + 3 = $\\textbf{4}$\n",
        "\n",
        "4B-4. Find the number of cars with R only: $|R| - |R ∩ A| - |R ∩ W| + |R ∩ A ∩ W|$ = 12 - 9 - 4 + 3 = $\\textbf{2}$\n",
        "\n",
        "4B-5. Find the number of cars with both R and W but not A: $|R ∩ W| - |A ∩ R ∩ W|$ = 4 - 3 = $\\textbf{1}$\n",
        "\n",
        "4B-6. Find the number of cars with both A and R but not W: $|A ∩ R| - |A ∩ R ∩ W|$ = 9 - 3 = $\\textbf{6}$\n",
        "\n",
        "4B-7. Find the number of cars with only one of the options: $|A \\text{ only}| + |B \\text{ only}| + |C \\text{ only}|$ = 5 + 4 + 2 = $\\textbf{11}$\n",
        "\n",
        "4B-8. Find the number of cars with at least one option: $|A ∪ R ∪ W| = |A| + |R| + |W| - |A ∩ R| - |A ∩ W| - |R ∩ W| + |A ∩ R ∩ W|$ = 15 + 11 + 12 - 5 - 9 - 4 + 3 = $\\textbf{23}$\n",
        "\n",
        "4B-9. Find the number of cars with none of the Options: $|\\mathcal{U}| - |A ∪ R ∪ W|$ = 25 - 23 = $\\textbf{2}$"
      ],
      "metadata": {
        "id": "owccBdcFWpRE"
      }
    }
  ]
}